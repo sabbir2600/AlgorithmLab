{
  "nbformat": 4,
  "nbformat_minor": 0,
  "metadata": {
    "colab": {
      "name": "Untitled1.ipynb",
      "provenance": [],
      "authorship_tag": "ABX9TyNVsgm8JYSmEvv7wNkuPAGc",
      "include_colab_link": true
    },
    "kernelspec": {
      "name": "python3",
      "display_name": "Python 3"
    }
  },
  "cells": [
    {
      "cell_type": "markdown",
      "metadata": {
        "id": "view-in-github",
        "colab_type": "text"
      },
      "source": [
        "<a href=\"https://colab.research.google.com/github/sabbir2600/AlgorithmLab/blob/master/Week%204%20Lab%20Work.ipynb\" target=\"_parent\"><img src=\"https://colab.research.google.com/assets/colab-badge.svg\" alt=\"Open In Colab\"/></a>"
      ]
    },
    {
      "cell_type": "markdown",
      "metadata": {
        "id": "xepIO3GCWsG8"
      },
      "source": [
        "Creating list\n"
      ]
    },
    {
      "cell_type": "code",
      "metadata": {
        "id": "zcPokhDxXA2z",
        "outputId": "1db3c438-3441-4e8f-96d0-739f97c19740",
        "colab": {
          "base_uri": "https://localhost:8080/",
          "height": 70
        }
      },
      "source": [
        "m1=[1,2,3,32,2.23,43.23,\"python\",[2,32,3]]\n",
        "print(m1)\n",
        "m2=[]\n",
        "print(m2)\n",
        "m3=list()\n",
        "print(m3)"
      ],
      "execution_count": 1,
      "outputs": [
        {
          "output_type": "stream",
          "text": [
            "[1, 2, 3, 32, 2.23, 43.23, 'python', [2, 32, 3]]\n",
            "[]\n",
            "[]\n"
          ],
          "name": "stdout"
        }
      ]
    },
    {
      "cell_type": "markdown",
      "metadata": {
        "id": "mdlDL_ciXPhU"
      },
      "source": [
        "Iterating list\n",
        "\n"
      ]
    },
    {
      "cell_type": "code",
      "metadata": {
        "id": "uNwZEqOIXTpU",
        "outputId": "9fc7c74f-11db-4ac2-eb54-135676b31a2e",
        "colab": {
          "base_uri": "https://localhost:8080/",
          "height": 34
        }
      },
      "source": [
        "\n",
        "m=[1,2,3,32,2.23,43.23,\"python\",[2,32,3]]\n",
        "for i in m:\n",
        "    print(i,end=' ')\n",
        "print('')"
      ],
      "execution_count": 2,
      "outputs": [
        {
          "output_type": "stream",
          "text": [
            "1 2 3 32 2.23 43.23 python [2, 32, 3] \n"
          ],
          "name": "stdout"
        }
      ]
    },
    {
      "cell_type": "markdown",
      "metadata": {
        "id": "Z59n95FFYYsl"
      },
      "source": [
        "Iterating list\n",
        "\n"
      ]
    },
    {
      "cell_type": "code",
      "metadata": {
        "id": "U9DNuvHTYc3Z",
        "outputId": "f10b6a9d-16d3-43d6-ed14-7eb63007e550",
        "colab": {
          "base_uri": "https://localhost:8080/",
          "height": 70
        }
      },
      "source": [
        "m=[1,2,3,32,2.23,43.23,\"python\",[2,32,3]]\n",
        "print(m[2])\n",
        "print(m[6])\n",
        "print(m[-2])"
      ],
      "execution_count": 3,
      "outputs": [
        {
          "output_type": "stream",
          "text": [
            "3\n",
            "python\n",
            "python\n"
          ],
          "name": "stdout"
        }
      ]
    },
    {
      "cell_type": "markdown",
      "metadata": {
        "id": "vbNn8INQcEVC"
      },
      "source": [
        "List operations\n",
        "\n"
      ]
    },
    {
      "cell_type": "code",
      "metadata": {
        "id": "IV5zq9CycH9W",
        "outputId": "d289fb52-3418-4cc5-ab4a-9d9e59bf3412",
        "colab": {
          "base_uri": "https://localhost:8080/",
          "height": 175
        }
      },
      "source": [
        "m1=[1,2,3,32,2.23,43.23,\"python\",[2,32,3]]\n",
        "\n",
        "print(len(m1))                \n",
        "\n",
        "m1.append([12,2,12,2])        \n",
        "print(m1)\n",
        "\n",
        "m1.insert(2,\"pandas\")         \n",
        "print(m1)\n",
        "\n",
        "m1.remove(3)                 \n",
        "print(m1)\n",
        "\n",
        "print(m1.index(\"python\"))     \n",
        "\n",
        "print(m1.count('pandas'))     \n",
        "\n",
        "print(m1.reverse())           \n",
        "\n",
        "m2=m1.copy()                \n",
        "print(m2)\n",
        "\n",
        "m1.clear()                    \n",
        "print(m1)"
      ],
      "execution_count": 4,
      "outputs": [
        {
          "output_type": "stream",
          "text": [
            "8\n",
            "[1, 2, 3, 32, 2.23, 43.23, 'python', [2, 32, 3], [12, 2, 12, 2]]\n",
            "[1, 2, 'pandas', 3, 32, 2.23, 43.23, 'python', [2, 32, 3], [12, 2, 12, 2]]\n",
            "[1, 2, 'pandas', 32, 2.23, 43.23, 'python', [2, 32, 3], [12, 2, 12, 2]]\n",
            "6\n",
            "1\n",
            "None\n",
            "[[12, 2, 12, 2], [2, 32, 3], 'python', 43.23, 2.23, 32, 'pandas', 2, 1]\n",
            "[]\n"
          ],
          "name": "stdout"
        }
      ]
    },
    {
      "cell_type": "markdown",
      "metadata": {
        "id": "y-QU-YoccQKE"
      },
      "source": [
        "lsit slicing\n",
        "\n"
      ]
    },
    {
      "cell_type": "code",
      "metadata": {
        "id": "FAOuScpLcQ12",
        "outputId": "8ee58e63-7bc7-46d2-83bf-5ccfdc8d51ef",
        "colab": {
          "base_uri": "https://localhost:8080/",
          "height": 87
        }
      },
      "source": [
        "m=[1,2,3,32,2.23,43.23,\"python\",[2,32,3]]\n",
        "\n",
        "print(m[2:7])\n",
        "print(m[2:])\n",
        "print(m[:5])\n",
        "print(m[:])"
      ],
      "execution_count": 5,
      "outputs": [
        {
          "output_type": "stream",
          "text": [
            "[3, 32, 2.23, 43.23, 'python']\n",
            "[3, 32, 2.23, 43.23, 'python', [2, 32, 3]]\n",
            "[1, 2, 3, 32, 2.23]\n",
            "[1, 2, 3, 32, 2.23, 43.23, 'python', [2, 32, 3]]\n"
          ],
          "name": "stdout"
        }
      ]
    },
    {
      "cell_type": "markdown",
      "metadata": {
        "id": "kz7K8PPJcZGO"
      },
      "source": [
        "list sorting\n",
        "\n"
      ]
    },
    {
      "cell_type": "code",
      "metadata": {
        "id": "9Ispov_9cZ56",
        "outputId": "a3266e48-7d02-47ad-c54e-cb59d476eafa",
        "colab": {
          "base_uri": "https://localhost:8080/",
          "height": 70
        }
      },
      "source": [
        "\n",
        "lst2=[1,2,4,2,4,2,4,2,5,6,7,4]\n",
        "\n",
        "lst3=sorted(lst2)\n",
        "print(lst3)\n",
        "print(lst2)\n",
        "lst2.sort()\n",
        "print(lst2)"
      ],
      "execution_count": 6,
      "outputs": [
        {
          "output_type": "stream",
          "text": [
            "[1, 2, 2, 2, 2, 4, 4, 4, 4, 5, 6, 7]\n",
            "[1, 2, 4, 2, 4, 2, 4, 2, 5, 6, 7, 4]\n",
            "[1, 2, 2, 2, 2, 4, 4, 4, 4, 5, 6, 7]\n"
          ],
          "name": "stdout"
        }
      ]
    },
    {
      "cell_type": "markdown",
      "metadata": {
        "id": "eOfwHhF_cfT1"
      },
      "source": [
        "creating tuple\n",
        "\n"
      ]
    },
    {
      "cell_type": "code",
      "metadata": {
        "id": "qHjbEK0kcgCB",
        "outputId": "e09f54d3-7197-4460-d5f4-a3212301d31a",
        "colab": {
          "base_uri": "https://localhost:8080/",
          "height": 70
        }
      },
      "source": [
        "m=(1,2,3,32,2.23,43.23,\"python\",[2,32,3])\n",
        "print(m)\n",
        "m1=()\n",
        "print(m1)\n",
        "m2=tuple()\n",
        "print(m2)"
      ],
      "execution_count": 7,
      "outputs": [
        {
          "output_type": "stream",
          "text": [
            "(1, 2, 3, 32, 2.23, 43.23, 'python', [2, 32, 3])\n",
            "()\n",
            "()\n"
          ],
          "name": "stdout"
        }
      ]
    },
    {
      "cell_type": "markdown",
      "metadata": {
        "id": "sQbXHhZmcjTu"
      },
      "source": [
        "Iterating tuple\n",
        "\n"
      ]
    },
    {
      "cell_type": "code",
      "metadata": {
        "id": "f6Mp6shQcl6Y",
        "outputId": "ac1ffe11-fa64-4988-8429-14d42cefb6c4",
        "colab": {
          "base_uri": "https://localhost:8080/",
          "height": 34
        }
      },
      "source": [
        "m0=(1,2,3,32,2.23,43.23,\"python\",[2,32,3])\n",
        "for i in m0:\n",
        "    print(i,end=' ')\n",
        "print('')"
      ],
      "execution_count": 8,
      "outputs": [
        {
          "output_type": "stream",
          "text": [
            "1 2 3 32 2.23 43.23 python [2, 32, 3] \n"
          ],
          "name": "stdout"
        }
      ]
    },
    {
      "cell_type": "markdown",
      "metadata": {
        "id": "ovo-geXrcsuM"
      },
      "source": [
        "Iterating tuple\n",
        "\n"
      ]
    },
    {
      "cell_type": "code",
      "metadata": {
        "id": "IbniBSmGctYQ",
        "outputId": "142c129f-886f-401f-c684-71e56a3bf55d",
        "colab": {
          "base_uri": "https://localhost:8080/",
          "height": 70
        }
      },
      "source": [
        "m0=(1,2,3,32,2.23,43.23,\"python\",[2,32,3])\n",
        "print(m0[2])\n",
        "print(m0[6])\n",
        "print(m[-2])"
      ],
      "execution_count": 9,
      "outputs": [
        {
          "output_type": "stream",
          "text": [
            "3\n",
            "python\n",
            "python\n"
          ],
          "name": "stdout"
        }
      ]
    },
    {
      "cell_type": "markdown",
      "metadata": {
        "id": "bACBZ4Xmcy-g"
      },
      "source": [
        "Inserting into tuple\n",
        "\n"
      ]
    },
    {
      "cell_type": "code",
      "metadata": {
        "id": "qSgbewuuc2b7",
        "outputId": "c36d2585-10a2-4677-b0fa-8787c82bedad",
        "colab": {
          "base_uri": "https://localhost:8080/",
          "height": 34
        }
      },
      "source": [
        "m0=(1,2,3,32,2.23,43.23,\"python\",[2,32,3])\n",
        "m0+=(\"pandas\",232,3,232,3)\n",
        "print(m0)"
      ],
      "execution_count": 10,
      "outputs": [
        {
          "output_type": "stream",
          "text": [
            "(1, 2, 3, 32, 2.23, 43.23, 'python', [2, 32, 3], 'pandas', 232, 3, 232, 3)\n"
          ],
          "name": "stdout"
        }
      ]
    },
    {
      "cell_type": "markdown",
      "metadata": {
        "id": "5KN3faamc8wC"
      },
      "source": [
        "unpacking sequences\n",
        "\n"
      ]
    },
    {
      "cell_type": "code",
      "metadata": {
        "id": "DZTH1Bpuc_T8",
        "outputId": "fa7c10a2-142c-4886-da01-3df40d161232",
        "colab": {
          "base_uri": "https://localhost:8080/",
          "height": 87
        }
      },
      "source": [
        "m=[5,7,112,33]\n",
        "a,b,c,d=m\n",
        "print(a)\n",
        "print(b)\n",
        "print(c)\n",
        "print(d)"
      ],
      "execution_count": 11,
      "outputs": [
        {
          "output_type": "stream",
          "text": [
            "5\n",
            "7\n",
            "112\n",
            "33\n"
          ],
          "name": "stdout"
        }
      ]
    },
    {
      "cell_type": "markdown",
      "metadata": {
        "id": "s2lmjoXYdJiI"
      },
      "source": [
        "unpacking sequences\n",
        "\n"
      ]
    },
    {
      "cell_type": "code",
      "metadata": {
        "id": "q2Ln7HzGdKMw",
        "outputId": "ef516151-c878-4a65-cef9-e09fca0dba92",
        "colab": {
          "base_uri": "https://localhost:8080/",
          "height": 87
        }
      },
      "source": [
        "m=(2,3,423,43)\n",
        "a,b,c,d=m\n",
        "print(a)\n",
        "print(b)\n",
        "print(c)\n",
        "print(d)"
      ],
      "execution_count": 12,
      "outputs": [
        {
          "output_type": "stream",
          "text": [
            "2\n",
            "3\n",
            "423\n",
            "43\n"
          ],
          "name": "stdout"
        }
      ]
    }
  ]
}